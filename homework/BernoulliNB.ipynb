{
 "cells": [
  {
   "cell_type": "code",
   "execution_count": 17,
   "metadata": {},
   "outputs": [],
   "source": [
    "import numpy as np\n",
    "train_data = np.loadtxt('20news-bydate/matlab/train.data', delimiter=' ', usecols=(0, 1), dtype=int, unpack=True)\n",
    "test_data = np.loadtxt('20news-bydate/matlab/test.data', delimiter=' ', usecols=(0, 1), dtype=int, unpack=True)\n",
    "label = np.loadtxt('20news-bydate/matlab/train.label', dtype=int, unpack=True)\n",
    "label_test = np.loadtxt('20news-bydate/matlab/test.label', dtype=int, unpack=True)"
   ]
  },
  {
   "cell_type": "code",
   "execution_count": 18,
   "metadata": {},
   "outputs": [],
   "source": [
    "X = np.zeros([11269, 61188], dtype=int)\n",
    "X_test = np.zeros([7505, 61188], dtype=int)"
   ]
  },
  {
   "cell_type": "code",
   "execution_count": 19,
   "metadata": {},
   "outputs": [],
   "source": [
    "rows = train_data[0:1,]\n",
    "rows_test = test_data[0:1,]\n",
    "cols = train_data[1:]\n",
    "cols_test = test_data[1:]"
   ]
  },
  {
   "cell_type": "code",
   "execution_count": 20,
   "metadata": {},
   "outputs": [],
   "source": [
    "X[rows - 1, cols - 1] = 1\n",
    "X_test[rows_test - 1, cols_test - 1] = 1"
   ]
  },
  {
   "cell_type": "code",
   "execution_count": 21,
   "metadata": {},
   "outputs": [],
   "source": [
    "Y = label\n",
    "Y_test = label_test\n",
    "from sklearn.naive_bayes import BernoulliNB\n",
    "clf = BernoulliNB()\n",
    "clf.fit(X, Y)\n",
    "BernoulliNB()\n",
    "predicted = clf.predict(X_test)"
   ]
  },
  {
   "cell_type": "code",
   "execution_count": 22,
   "metadata": {},
   "outputs": [],
   "source": [
    "from sklearn.metrics import accuracy_score\n",
    "\n",
    "accuracy = accuracy_score(Y_test, predicted)"
   ]
  },
  {
   "cell_type": "code",
   "execution_count": 23,
   "metadata": {},
   "outputs": [
    {
     "name": "stdout",
     "output_type": "stream",
     "text": [
      "BernoulliNB Accuracy: 0.6239840106595603\n"
     ]
    }
   ],
   "source": [
    "print(\"BernoulliNB Accuracy: \" + str(accuracy))"
   ]
  },
  {
   "cell_type": "code",
   "execution_count": null,
   "metadata": {},
   "outputs": [],
   "source": []
  }
 ],
 "metadata": {
  "kernelspec": {
   "display_name": "Python 3",
   "language": "python",
   "name": "python3"
  },
  "language_info": {
   "codemirror_mode": {
    "name": "ipython",
    "version": 3
   },
   "file_extension": ".py",
   "mimetype": "text/x-python",
   "name": "python",
   "nbconvert_exporter": "python",
   "pygments_lexer": "ipython3",
   "version": "3.7.4"
  }
 },
 "nbformat": 4,
 "nbformat_minor": 2
}
