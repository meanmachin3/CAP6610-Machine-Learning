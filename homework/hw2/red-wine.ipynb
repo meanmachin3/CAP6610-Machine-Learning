{
 "cells": [
  {
   "cell_type": "code",
   "execution_count": 23,
   "metadata": {},
   "outputs": [],
   "source": [
    "import cvxpy as cp\n",
    "import numpy as np\n",
    "import matplotlib.pyplot as plt\n",
    "from sklearn.metrics import mean_absolute_error"
   ]
  },
  {
   "cell_type": "code",
   "execution_count": 24,
   "metadata": {},
   "outputs": [],
   "source": [
    "data = np.loadtxt('winequality-red.csv', delimiter=';', skiprows=1)\n",
    "m = 1400\n",
    "n = 11"
   ]
  },
  {
   "cell_type": "code",
   "execution_count": 25,
   "metadata": {},
   "outputs": [],
   "source": [
    "A_train = data[0:m,0:n]\n",
    "b_train = data[0:m,n:]\n",
    "A_test = data[m:,0:n]\n",
    "b_test = data[m:,n:]"
   ]
  },
  {
   "cell_type": "code",
   "execution_count": 26,
   "metadata": {},
   "outputs": [
    {
     "name": "stdout",
     "output_type": "stream",
     "text": [
      "least squares loss: 0.5329671066366284\n"
     ]
    }
   ],
   "source": [
    "\n",
    "np.random.seed(1)\n",
    "A = A_train\n",
    "b = np.reshape(b_train, m)\n",
    "\n",
    "# Define and solve the CVXPY problem.\n",
    "x = cp.Variable(n)\n",
    "beta = cp.Variable()\n",
    "cost = cp.sum_squares(A @ x + beta - b)\n",
    "prob = cp.Problem(cp.Minimize(cost))\n",
    "prob.solve()\n",
    "y_pred = A_test@x.value + beta.value\n",
    "print(\"least squares loss: \" + str(mean_absolute_error(np.reshape(b_test, 199), y_pred)))"
   ]
  },
  {
   "cell_type": "code",
   "execution_count": 27,
   "metadata": {},
   "outputs": [
    {
     "name": "stdout",
     "output_type": "stream",
     "text": [
      "Huber loss: 0.5327156477588901\n"
     ]
    }
   ],
   "source": [
    "# Huber Loss\n",
    "x = cp.Variable(n)\n",
    "beta = cp.Variable()\n",
    "cost = cp.sum(cp.huber(A @ x + beta - b, M=1))\n",
    "prob = cp.Problem(cp.Minimize(cost))\n",
    "prob.solve()\n",
    "y_pred = A_test@x.value + beta.value\n",
    "print(\"Huber loss: \" + str(mean_absolute_error(np.reshape(b_test, 199), y_pred)))"
   ]
  },
  {
   "cell_type": "code",
   "execution_count": 28,
   "metadata": {},
   "outputs": [
    {
     "name": "stdout",
     "output_type": "stream",
     "text": [
      "hinge (deadzone-linear) loss: 0.5257836556506393\n"
     ]
    }
   ],
   "source": [
    "# Hinge Loss\n",
    "x = cp.Variable(n)\n",
    "beta = cp.Variable()\n",
    "abs_eq = cp.abs(A @ x + beta - b)\n",
    "cost = cp.sum(cp.pos(abs_eq) - 0.5)\n",
    "prob = cp.Problem(cp.Minimize(cost))\n",
    "prob.solve(solver=cp.ECOS)\n",
    "y_pred = A_test@x.value + beta.value\n",
    "print(\"hinge (deadzone-linear) loss: \" + str(mean_absolute_error(np.reshape(b_test, 199), y_pred)))"
   ]
  },
  {
   "cell_type": "code",
   "execution_count": null,
   "metadata": {},
   "outputs": [],
   "source": []
  },
  {
   "cell_type": "code",
   "execution_count": null,
   "metadata": {},
   "outputs": [],
   "source": []
  }
 ],
 "metadata": {
  "kernelspec": {
   "display_name": "Python 3",
   "language": "python",
   "name": "python3"
  },
  "language_info": {
   "codemirror_mode": {
    "name": "ipython",
    "version": 3
   },
   "file_extension": ".py",
   "mimetype": "text/x-python",
   "name": "python",
   "nbconvert_exporter": "python",
   "pygments_lexer": "ipython3",
   "version": "3.7.4"
  }
 },
 "nbformat": 4,
 "nbformat_minor": 2
}
