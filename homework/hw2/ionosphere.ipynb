{
 "cells": [
  {
   "cell_type": "code",
   "execution_count": 2,
   "metadata": {},
   "outputs": [],
   "source": [
    "import cvxpy as cp\n",
    "import numpy as np\n",
    "import matplotlib.pyplot as plt\n",
    "from sklearn.metrics import mean_absolute_error\n",
    "from sklearn.metrics import accuracy_score"
   ]
  },
  {
   "cell_type": "code",
   "execution_count": 3,
   "metadata": {},
   "outputs": [],
   "source": [
    "data = np.loadtxt('ionosphere.data', delimiter=',', dtype=float, usecols=(0, 1, 2, 3, 4, 5, 6, 7, 8, 9, 10, 11, 12, 13, 14, 15, 16, 17, 18, 19, 20, 21, 22, 23, 24, 25, 26, 27, 28, 29, 30, 31, 32, 33))"
   ]
  },
  {
   "cell_type": "code",
   "execution_count": 4,
   "metadata": {},
   "outputs": [],
   "source": [
    "label_txt = np.loadtxt('ionosphere.data', delimiter=',', dtype='str', usecols=(34))"
   ]
  },
  {
   "cell_type": "code",
   "execution_count": 5,
   "metadata": {},
   "outputs": [],
   "source": [
    "label = list(map(lambda x: 1 if x == 'g' else -1, label_txt))"
   ]
  },
  {
   "cell_type": "code",
   "execution_count": 6,
   "metadata": {},
   "outputs": [],
   "source": [
    "X = data[0:300]\n",
    "Y = label[0:300]\n",
    "X_test = data[300:]\n",
    "Y_test = label[300:]"
   ]
  },
  {
   "cell_type": "code",
   "execution_count": 7,
   "metadata": {},
   "outputs": [
    {
     "name": "stdout",
     "output_type": "stream",
     "text": [
      "least squares loss: 1.0\n"
     ]
    }
   ],
   "source": [
    "\n",
    "np.random.seed(1)\n",
    "A = X\n",
    "b = Y\n",
    "\n",
    "# Define and solve the CVXPY problem.\n",
    "x = cp.Variable(34)\n",
    "cost = cp.sum_squares(A @ x - b)\n",
    "prob = cp.Problem(cp.Minimize(cost))\n",
    "prob.solve()\n",
    "y_pred = X_test@x.value\n",
    "print(\"least squares loss: \" + str(accuracy_score(Y_test, list(map(lambda x: 1 if x >= 0 else -1, y_pred)))))"
   ]
  },
  {
   "cell_type": "code",
   "execution_count": 14,
   "metadata": {},
   "outputs": [
    {
     "name": "stdout",
     "output_type": "stream",
     "text": [
      "logistic loss: 1.0\n"
     ]
    }
   ],
   "source": [
    "np.random.seed(1)\n",
    "A = X\n",
    "b = Y\n",
    "\n",
    "# Define and solve the CVXPY problem.\n",
    "x = cp.Variable(34)\n",
    "beta = cp.Variable()\n",
    "cost = cp.sum(cp.logistic(-1 * A @ x + beta))\n",
    "prob = cp.Problem(cp.Minimize(cost))\n",
    "prob.solve()\n",
    "y_pred = X_test@x.value\n",
    "print(\"logistic loss: \" + str(accuracy_score(Y_test, list(map(lambda x: 1 if x >= 0 else -1, y_pred)))))"
   ]
  },
  {
   "cell_type": "code",
   "execution_count": 16,
   "metadata": {},
   "outputs": [
    {
     "name": "stdout",
     "output_type": "stream",
     "text": [
      "hinge loss: 1.0\n"
     ]
    }
   ],
   "source": [
    "np.random.seed(1)\n",
    "A = X\n",
    "b = Y\n",
    "\n",
    "# Define and solve the CVXPY problem.\n",
    "x = cp.Variable(34)\n",
    "beta = cp.Variable()\n",
    "cost = cp.sum(cp.pos(1 - cp.multiply(A @ x + beta, b)))\n",
    "prob = cp.Problem(cp.Minimize(cost))\n",
    "prob.solve(solver = cp.ECOS)\n",
    "y_pred = X_test@x.value\n",
    "print(\"hinge loss: \" + str(accuracy_score(Y_test, list(map(lambda x: 1 if x >= 0 else -1, y_pred)))))"
   ]
  },
  {
   "cell_type": "code",
   "execution_count": null,
   "metadata": {},
   "outputs": [],
   "source": []
  },
  {
   "cell_type": "code",
   "execution_count": null,
   "metadata": {},
   "outputs": [],
   "source": []
  }
 ],
 "metadata": {
  "kernelspec": {
   "display_name": "Python 3",
   "language": "python",
   "name": "python3"
  },
  "language_info": {
   "codemirror_mode": {
    "name": "ipython",
    "version": 3
   },
   "file_extension": ".py",
   "mimetype": "text/x-python",
   "name": "python",
   "nbconvert_exporter": "python",
   "pygments_lexer": "ipython3",
   "version": "3.7.4"
  }
 },
 "nbformat": 4,
 "nbformat_minor": 2
}
