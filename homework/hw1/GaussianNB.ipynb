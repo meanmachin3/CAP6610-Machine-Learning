{
 "cells": [
  {
   "cell_type": "code",
   "execution_count": 10,
   "metadata": {},
   "outputs": [],
   "source": [
    "import numpy as np\n",
    "train_data = np.loadtxt('20news-bydate/matlab/train.data', delimiter=' ', usecols=(0, 1, 2), dtype=int, unpack=True)\n",
    "test_data = np.loadtxt('20news-bydate/matlab/test.data', delimiter=' ', usecols=(0, 1, 2), dtype=int, unpack=True)\n",
    "label = np.loadtxt('20news-bydate/matlab/train.label', dtype=int, unpack=True)\n",
    "label_test = np.loadtxt('20news-bydate/matlab/test.label', dtype=int, unpack=True)"
   ]
  },
  {
   "cell_type": "code",
   "execution_count": 11,
   "metadata": {},
   "outputs": [],
   "source": [
    "X = np.zeros([11269, 61188], dtype=int)\n",
    "X_test = np.zeros([7505, 61188], dtype=int)"
   ]
  },
  {
   "cell_type": "code",
   "execution_count": 12,
   "metadata": {},
   "outputs": [],
   "source": [
    "for i in range(1467345):\n",
    "    X[train_data[0][i] - 1][train_data[1][i] - 1] = train_data[2][i]\n",
    "for i in range(967874):\n",
    "    X_test[test_data[0][i] - 1][test_data[1][i] - 1] = test_data[2][i]"
   ]
  },
  {
   "cell_type": "code",
   "execution_count": 13,
   "metadata": {},
   "outputs": [],
   "source": [
    "from sklearn.feature_extraction.text import TfidfTransformer\n",
    "tf_transformer = TfidfTransformer().fit(X)\n",
    "X_train_tf = tf_transformer.transform(X)\n",
    "tf_transformer = TfidfTransformer(use_idf=False).fit(X_test)\n",
    "X_train_tf_test = tf_transformer.transform(X_test)"
   ]
  },
  {
   "cell_type": "code",
   "execution_count": 14,
   "metadata": {},
   "outputs": [],
   "source": [
    "Y = label\n",
    "Y_test = label_test\n",
    "from sklearn.naive_bayes import GaussianNB\n",
    "clf = GaussianNB()\n",
    "clf.fit(X_train_tf.toarray(), Y)\n",
    "GaussianNB()\n",
    "predicted = clf.predict(X_train_tf_test.toarray())"
   ]
  },
  {
   "cell_type": "code",
   "execution_count": 15,
   "metadata": {},
   "outputs": [],
   "source": [
    "from sklearn.metrics import accuracy_score\n",
    "accuracy = accuracy_score(Y_test, predicted)"
   ]
  },
  {
   "cell_type": "code",
   "execution_count": 16,
   "metadata": {},
   "outputs": [
    {
     "name": "stdout",
     "output_type": "stream",
     "text": [
      "GaussianNB Accuracy: 0.7104596935376416\n"
     ]
    }
   ],
   "source": [
    "print(\"GaussianNB Accuracy: \" + str(accuracy))"
   ]
  },
  {
   "cell_type": "code",
   "execution_count": null,
   "metadata": {},
   "outputs": [],
   "source": []
  }
 ],
 "metadata": {
  "kernelspec": {
   "display_name": "Python 3",
   "language": "python",
   "name": "python3"
  },
  "language_info": {
   "codemirror_mode": {
    "name": "ipython",
    "version": 3
   },
   "file_extension": ".py",
   "mimetype": "text/x-python",
   "name": "python",
   "nbconvert_exporter": "python",
   "pygments_lexer": "ipython3",
   "version": "3.7.4"
  }
 },
 "nbformat": 4,
 "nbformat_minor": 2
}
