{
 "cells": [
  {
   "cell_type": "code",
   "execution_count": 9,
   "metadata": {},
   "outputs": [],
   "source": [
    "import numpy as np\n",
    "train_data = np.loadtxt('20news-bydate/matlab/train.data', delimiter=' ', usecols=(0, 1, 2), dtype=int, unpack=True)\n",
    "test_data = np.loadtxt('20news-bydate/matlab/test.data', delimiter=' ', usecols=(0, 1, 2), dtype=int, unpack=True)"
   ]
  },
  {
   "cell_type": "code",
   "execution_count": 10,
   "metadata": {},
   "outputs": [],
   "source": [
    "label = np.loadtxt('20news-bydate/matlab/train.label', dtype=int, unpack=True)\n",
    "label_test = np.loadtxt('20news-bydate/matlab/test.label', dtype=int, unpack=True)"
   ]
  },
  {
   "cell_type": "code",
   "execution_count": 11,
   "metadata": {},
   "outputs": [],
   "source": [
    "X = np.zeros([11269, 61188], dtype=int)\n",
    "X_test = np.zeros([7505, 61188], dtype=int)"
   ]
  },
  {
   "cell_type": "code",
   "execution_count": 12,
   "metadata": {},
   "outputs": [],
   "source": [
    "for i in range(1467345):\n",
    "    X[train_data[0][i] - 1][train_data[1][i] - 1] = train_data[2][i]\n",
    "for i in range(967874):\n",
    "    X_test[test_data[0][i] - 1][test_data[1][i] - 1] = test_data[2][i]"
   ]
  },
  {
   "cell_type": "code",
   "execution_count": 22,
   "metadata": {},
   "outputs": [],
   "source": [
    "Y = label\n",
    "Y_test = label_test\n",
    "from sklearn.naive_bayes import MultinomialNB\n",
    "clf = MultinomialNB()\n",
    "clf.fit(X, Y)\n",
    "MultinomialNB()\n",
    "predicted = clf.predict(X_test)"
   ]
  },
  {
   "cell_type": "code",
   "execution_count": 23,
   "metadata": {},
   "outputs": [],
   "source": [
    "from sklearn.metrics import accuracy_score\n",
    "accuracy = accuracy_score(Y_test, predicted)"
   ]
  },
  {
   "cell_type": "code",
   "execution_count": 24,
   "metadata": {},
   "outputs": [
    {
     "name": "stdout",
     "output_type": "stream",
     "text": [
      "MultinomialNB Accuracy: 0.7810792804796802\n"
     ]
    }
   ],
   "source": [
    "print(\"MultinomialNB Accuracy: \" + str(accuracy))"
   ]
  },
  {
   "cell_type": "code",
   "execution_count": null,
   "metadata": {},
   "outputs": [],
   "source": []
  }
 ],
 "metadata": {
  "kernelspec": {
   "display_name": "Python 3",
   "language": "python",
   "name": "python3"
  },
  "language_info": {
   "codemirror_mode": {
    "name": "ipython",
    "version": 3
   },
   "file_extension": ".py",
   "mimetype": "text/x-python",
   "name": "python",
   "nbconvert_exporter": "python",
   "pygments_lexer": "ipython3",
   "version": "3.7.4"
  }
 },
 "nbformat": 4,
 "nbformat_minor": 2
}
